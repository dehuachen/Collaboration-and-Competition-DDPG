{
 "cells": [
  {
   "cell_type": "markdown",
   "metadata": {},
   "source": [
    "# Collaboration and Competition\n",
    "\n",
    "---\n",
    "\n",
    "You are welcome to use this coding environment to train your agent for the project.  Follow the instructions below to get started!\n",
    "\n",
    "### 1. Start the Environment\n",
    "\n",
    "Run the next code cell to install a few packages.  This line will take a few minutes to run!"
   ]
  },
  {
   "cell_type": "code",
   "execution_count": 1,
   "metadata": {},
   "outputs": [
    {
     "name": "stdout",
     "output_type": "stream",
     "text": [
      "\u001b[31mtensorflow 1.7.1 has requirement numpy>=1.13.3, but you'll have numpy 1.12.1 which is incompatible.\u001b[0m\r\n",
      "\u001b[31mipython 6.5.0 has requirement prompt-toolkit<2.0.0,>=1.0.15, but you'll have prompt-toolkit 3.0.36 which is incompatible.\u001b[0m\r\n",
      "\u001b[31mjupyter-console 6.4.3 has requirement jupyter-client>=7.0.0, but you'll have jupyter-client 5.2.4 which is incompatible.\u001b[0m\r\n"
     ]
    }
   ],
   "source": [
    "!pip -q install ./python"
   ]
  },
  {
   "cell_type": "markdown",
   "metadata": {},
   "source": [
    "The environment is already saved in the Workspace and can be accessed at the file path provided below. "
   ]
  },
  {
   "cell_type": "code",
   "execution_count": 2,
   "metadata": {},
   "outputs": [
    {
     "name": "stderr",
     "output_type": "stream",
     "text": [
      "INFO:unityagents:\n",
      "'Academy' started successfully!\n",
      "Unity Academy name: Academy\n",
      "        Number of Brains: 1\n",
      "        Number of External Brains : 1\n",
      "        Lesson number : 0\n",
      "        Reset Parameters :\n",
      "\t\t\n",
      "Unity brain name: TennisBrain\n",
      "        Number of Visual Observations (per agent): 0\n",
      "        Vector Observation space type: continuous\n",
      "        Vector Observation space size (per agent): 8\n",
      "        Number of stacked Vector Observation: 3\n",
      "        Vector Action space type: continuous\n",
      "        Vector Action space size (per agent): 2\n",
      "        Vector Action descriptions: , \n"
     ]
    }
   ],
   "source": [
    "from unityagents import UnityEnvironment\n",
    "import numpy as np\n",
    "\n",
    "env = UnityEnvironment(file_name=\"/data/Tennis_Linux_NoVis/Tennis\")"
   ]
  },
  {
   "cell_type": "markdown",
   "metadata": {},
   "source": [
    "Environments contain **_brains_** which are responsible for deciding the actions of their associated agents. Here we check for the first brain available, and set it as the default brain we will be controlling from Python."
   ]
  },
  {
   "cell_type": "code",
   "execution_count": 3,
   "metadata": {},
   "outputs": [],
   "source": [
    "# get the default brain\n",
    "brain_name = env.brain_names[0]\n",
    "brain = env.brains[brain_name]"
   ]
  },
  {
   "cell_type": "markdown",
   "metadata": {},
   "source": [
    "### 2. Examine the State and Action Spaces\n",
    "\n",
    "Run the code cell below to print some information about the environment."
   ]
  },
  {
   "cell_type": "code",
   "execution_count": 4,
   "metadata": {},
   "outputs": [
    {
     "name": "stdout",
     "output_type": "stream",
     "text": [
      "Number of agents: 2\n",
      "Size of each action: 2\n",
      "There are 2 agents. Each observes a state with length: 24\n",
      "The state for the first agent looks like: [ 0.          0.          0.          0.          0.          0.          0.\n",
      "  0.          0.          0.          0.          0.          0.          0.\n",
      "  0.          0.         -6.65278625 -1.5        -0.          0.\n",
      "  6.83172083  6.         -0.          0.        ]\n"
     ]
    }
   ],
   "source": [
    "# reset the environment\n",
    "env_info = env.reset(train_mode=True)[brain_name]\n",
    "\n",
    "# number of agents \n",
    "num_agents = len(env_info.agents)\n",
    "print('Number of agents:', num_agents)\n",
    "\n",
    "# size of each action\n",
    "action_size = brain.vector_action_space_size\n",
    "print('Size of each action:', action_size)\n",
    "\n",
    "# examine the state space \n",
    "states = env_info.vector_observations\n",
    "state_size = states.shape[1]\n",
    "print('There are {} agents. Each observes a state with length: {}'.format(states.shape[0], state_size))\n",
    "print('The state for the first agent looks like:', states[0])"
   ]
  },
  {
   "cell_type": "markdown",
   "metadata": {},
   "source": [
    "### 3. Take Random Actions in the Environment\n",
    "\n",
    "In the next code cell, you will learn how to use the Python API to control the agent and receive feedback from the environment.\n",
    "\n",
    "Note that **in this coding environment, you will not be able to watch the agents while they are training**, and you should set `train_mode=True` to restart the environment."
   ]
  },
  {
   "cell_type": "code",
   "execution_count": 5,
   "metadata": {},
   "outputs": [],
   "source": [
    "state_sum = np.zeros((2,24))"
   ]
  },
  {
   "cell_type": "code",
   "execution_count": 6,
   "metadata": {},
   "outputs": [
    {
     "name": "stdout",
     "output_type": "stream",
     "text": [
      "Total score (averaged over agents) this episode: -0.004999999888241291\n",
      "Total score (averaged over agents) this episode: -0.004999999888241291\n",
      "Total score (averaged over agents) this episode: -0.004999999888241291\n",
      "Total score (averaged over agents) this episode: -0.004999999888241291\n",
      "Total score (averaged over agents) this episode: -0.004999999888241291\n"
     ]
    }
   ],
   "source": [
    "rewards_l = []\n",
    "for i in range(5):                                         # play game for 5 episodes\n",
    "    env_info = env.reset(train_mode=False)[brain_name]     # reset the environment    \n",
    "    states = env_info.vector_observations                  # get the current state (for each agent)\n",
    "    scores = np.zeros(num_agents)                          # initialize the score (for each agent)\n",
    "\n",
    "    while True:\n",
    "        state_sum += states\n",
    "        actions = np.random.randn(num_agents, action_size) # select an action (for each agent)\n",
    "        actions = np.clip(actions, -1, 1)                  # all actions between -1 and 1\n",
    "        env_info = env.step(actions)[brain_name]           # send all actions to tne environment\n",
    "        next_states = env_info.vector_observations         # get next state (for each agent)\n",
    "        rewards = env_info.rewards                         # get reward (for each agent)\n",
    "        rewards_l.append(rewards)\n",
    "        dones = env_info.local_done                        # see if episode finished\n",
    "        scores += env_info.rewards                         # update the score (for each agent)\n",
    "        states = next_states                               # roll over states to next time step\n",
    "        if np.any(dones):                                  # exit loop if episode finished\n",
    "            break\n",
    "    print('Total score (averaged over agents) this episode: {}'.format(np.mean(scores)))"
   ]
  },
  {
   "cell_type": "markdown",
   "metadata": {},
   "source": [
    "When finished, you can close the environment."
   ]
  },
  {
   "cell_type": "code",
   "execution_count": 7,
   "metadata": {},
   "outputs": [],
   "source": [
    "# env.close()"
   ]
  },
  {
   "cell_type": "code",
   "execution_count": 8,
   "metadata": {},
   "outputs": [],
   "source": [
    "import numpy as np\n",
    "import random\n",
    "import copy\n",
    "from collections import namedtuple, deque\n",
    "\n",
    "import torch\n",
    "from torch import nn\n",
    "import torch.nn.functional as F\n",
    "import torch.optim as optim"
   ]
  },
  {
   "cell_type": "code",
   "execution_count": 9,
   "metadata": {},
   "outputs": [],
   "source": [
    "class OUNoise:\n",
    "    \"\"\"Ornstein-Uhlenbeck process.\"\"\"\n",
    "\n",
    "    def __init__(self, size, seed, mu=0.0, theta=0.1, sigma=0.5):\n",
    "        \"\"\"Initialize parameters and noise process.\"\"\"\n",
    "        self.mu = mu * np.ones(size)\n",
    "        self.theta = theta\n",
    "        self.sigma = sigma\n",
    "        self.seed = random.seed(seed)\n",
    "        self.size = size\n",
    "        self.reset()\n",
    "\n",
    "    def reset(self):\n",
    "        \"\"\"Reset the internal state (= noise) to mean (mu).\"\"\"\n",
    "        self.state = copy.copy(self.mu)\n",
    "        self.sigma *= 0.99\n",
    "        self.sigma = max(0.05, self.sigma)\n",
    "\n",
    "    def sample(self):\n",
    "        \"\"\"Update internal state and return it as a noise sample.\"\"\"\n",
    "        x = self.state\n",
    "        dx = self.theta * (self.mu - x) + self.sigma * np.random.randn(1)\n",
    "        self.state = x + dx\n",
    "        return self.state\n",
    "\n",
    "class ReplayBuffer:\n",
    "    def __init__(self, action_size, buffer_size, batch_size, seed):\n",
    "        self.action_size = action_size\n",
    "        self.memory = deque(maxlen=buffer_size)\n",
    "        self.batch_size = batch_size\n",
    "        self.experience = namedtuple(\n",
    "            'Experience', \n",
    "            field_names=['state', 'action', 'reward', 'next_state', 'done']\n",
    "        )\n",
    "        self.seed = random.seed(seed)\n",
    "\n",
    "    def add(self, state, action, reward, next_state, done):\n",
    "\n",
    "        e = self.experience(state, action, reward, next_state, done)\n",
    "        self.memory.append(e)\n",
    "    \n",
    "    def sample(self):\n",
    "        experiences = random.sample(self.memory, k=self.batch_size)\n",
    "\n",
    "        states = torch.from_numpy(np.vstack([e.state for e in experiences if e is not None])).float().to(device)\n",
    "        actions = torch.from_numpy(np.vstack([e.action for e in experiences if e is not None])).float().to(device)\n",
    "        rewards = torch.from_numpy(np.vstack([e.reward for e in experiences if e is not None])).float().to(device)\n",
    "        next_states = torch.from_numpy(np.vstack([e.next_state for e in experiences if e is not None])).float().to(device)\n",
    "        dones = torch.from_numpy(np.vstack([e.done for e in experiences if e is not None]).astype(np.uint8)).float().to(device)\n",
    "    \n",
    "        return (states, actions, rewards, next_states, dones)\n",
    "\n",
    "    def __len__(self):\n",
    "        return len(self.memory)"
   ]
  },
  {
   "cell_type": "code",
   "execution_count": 10,
   "metadata": {},
   "outputs": [],
   "source": [
    "def hidden_init(layer):\n",
    "    fan_in = layer.weight.data.size(0)\n",
    "    lim = 1.0 / np.sqrt(fan_in)\n",
    "    return (-lim, lim)\n",
    "\n",
    "class Actor(nn.Module):\n",
    "    \n",
    "    def __init__(self, state_size, action_size, seed, layers=[256, 128]) -> None:\n",
    "        super(Actor, self).__init__()\n",
    "        self.seed = torch.manual_seed(seed)\n",
    "        \n",
    "        self.fc1 = nn.Linear(state_size*2, layers[0])\n",
    "        self.fc2 = nn.Linear(layers[0], layers[1])\n",
    "        self.fc3 = nn.Linear(layers[1], action_size)\n",
    "        \n",
    "        self.reset_parameters()\n",
    "\n",
    "    def reset_parameters(self):\n",
    "        self.fc1.weight.data.uniform_(*hidden_init(self.fc1))\n",
    "        self.fc2.weight.data.uniform_(*hidden_init(self.fc2))\n",
    "        self.fc3.weight.data.uniform_(-3e-3, 3e-3)\n",
    "    \n",
    "    def forward(self, state):\n",
    "        x = F.relu(self.fc1(state))\n",
    "        x = F.relu(self.fc2(x))\n",
    "        return F.tanh(self.fc3(x))\n",
    "\n",
    "class Critic(nn.Module):\n",
    "    \n",
    "    def __init__(self, state_size, action_size, seed, layers=[256, 128]) -> None:\n",
    "        super(Critic, self).__init__()\n",
    "        self.seed = torch.manual_seed(seed)\n",
    "\n",
    "        self.fcs1 = nn.Linear(state_size*2, layers[0])\n",
    "        self.fc2 = nn.Linear(layers[0] + action_size*2, layers[1])\n",
    "        self.fc3 = nn.Linear(layers[1], 1)\n",
    "        \n",
    "        self.reset_parameters()\n",
    "\n",
    "    def reset_parameters(self):\n",
    "        self.fcs1.weight.data.uniform_(*hidden_init(self.fcs1))\n",
    "        self.fc2.weight.data.uniform_(*hidden_init(self.fc2))\n",
    "        self.fc3.weight.data.uniform_(-3e-3, 3e-3)\n",
    "    \n",
    "    def forward(self, state, action):\n",
    "        x = F.relu(self.fcs1(state))\n",
    "        x = torch.cat([x, action], dim=1)\n",
    "        x = F.relu(self.fc2(x))\n",
    "        return self.fc3(x)\n"
   ]
  },
  {
   "cell_type": "code",
   "execution_count": 11,
   "metadata": {},
   "outputs": [],
   "source": [
    "BUFFER_SIZE = int(1e5)  # replay buffer size\n",
    "BATCH_SIZE = 128        # minibatch size\n",
    "GAMMA = 0.99            # discount factor\n",
    "TAU = 1e-3              # for soft update of target parameters\n",
    "LR_ACTOR = 1e-3         # learning rate of the actor \n",
    "LR_CRITIC = 1e-3        # learning rate of the critic\n",
    "WEIGHT_DECAY = 0        # L2 weight decay\n",
    "\n",
    "device = torch.device(\"cuda:0\" if torch.cuda.is_available() else \"cpu\")\n",
    "\n",
    "class Agent:\n",
    "    def __init__(self, state_size, action_size, random_seed, agent_id, memory=None) -> None:\n",
    "        \n",
    "        self.state_size = state_size\n",
    "        self.action_size = action_size\n",
    "        self.seed = random.seed(random_seed)\n",
    "        self.agent_id = agent_id\n",
    "\n",
    "        self.actor_local = Actor(state_size, action_size, random_seed).to(device)\n",
    "        self.actor_target = Actor(state_size, action_size, random_seed).to(device)\n",
    "        self.actor_opt = optim.Adam(self.actor_local.parameters(), lr=LR_ACTOR)\n",
    "\n",
    "        self.critic_local = Critic(state_size, action_size, random_seed).to(device)\n",
    "        self.critic_target = Critic(state_size, action_size, random_seed).to(device)\n",
    "        self.critic_opt = optim.Adam(self.critic_local.parameters(), lr=LR_CRITIC, weight_decay=WEIGHT_DECAY)\n",
    "\n",
    "        self.soft_update(self.actor_local, self.actor_target, 1)\n",
    "        self.soft_update(self.critic_local, self.critic_target, 1)\n",
    "        \n",
    "        self.noise = OUNoise((1, action_size), random_seed)\n",
    "        \n",
    "        self.memory = memory\n",
    "        if self.memory is None:\n",
    "            self.memory = ReplayBuffer(action_size, BUFFER_SIZE, BATCH_SIZE, random_seed)\n",
    "        \n",
    "        self.reset()\n",
    "\n",
    "    def step(self, state, action, reward, next_state, done):\n",
    "        self.memory.add(state, action, reward, next_state, done)\n",
    "        \n",
    "        if len(self.memory) > BATCH_SIZE:\n",
    "            experiences = self.memory.sample()\n",
    "            self.learn(experiences, GAMMA)\n",
    "\n",
    "    def learn(self, experiences, gamma):\n",
    "        state, action, reward, next_state, done = experiences\n",
    "        \n",
    "        # critic\n",
    "        action_next = self.actor_target(next_state)\n",
    "#         print(action_next, action_next.shape)\n",
    "#         print(action, action.shape)\n",
    "        if self.agent_id == 0:\n",
    "            action_next = torch.cat((action_next, action[:, 2:]), dim=-1)\n",
    "        else:\n",
    "            action_next = torch.cat((action[:, :2], action_next), dim=-1)\n",
    "        \n",
    "        Q_targets_next = self.critic_target(next_state, action_next)\n",
    "        Q_targets = reward + (gamma * Q_targets_next * (1 - done))\n",
    "        Q_expected = self.critic_local(state, action)\n",
    "        critic_loss = F.mse_loss(Q_expected, Q_targets)\n",
    "        self.critic_opt.zero_grad()\n",
    "        critic_loss.backward()\n",
    "        torch.nn.utils.clip_grad_norm_(self.critic_local.parameters(), 1)\n",
    "        self.critic_opt.step()\n",
    "\n",
    "        # actor\n",
    "        action_pred = self.actor_local(state)\n",
    "        if self.agent_id == 0:\n",
    "            action_pred = torch.cat((action_pred, action[:,2:]), dim=1)\n",
    "        else:\n",
    "            action_pred = torch.cat((action[:,:2], action_pred), dim=1)\n",
    "        \n",
    "        actor_loss = -self.critic_local(state, action_pred).mean()\n",
    "        # Minimize the loss\n",
    "        self.actor_opt.zero_grad()\n",
    "        actor_loss.backward()\n",
    "        self.actor_opt.step()\n",
    "\n",
    "        self.soft_update(self.critic_local, self.critic_target, TAU)\n",
    "        self.soft_update(self.actor_local, self.actor_target, TAU)\n",
    "\n",
    "    def act(self, state, add_noise=True, noise_rate=0.0):\n",
    "        \"\"\"\n",
    "        docstring\n",
    "        \"\"\"\n",
    "        state = torch.from_numpy(state).float().to(device)\n",
    "        self.actor_local.eval()\n",
    "        with torch.no_grad():\n",
    "            action = self.actor_local(state).cpu().numpy()\n",
    "        self.actor_local.train()\n",
    "        if add_noise:\n",
    "            action += self.noise.sample() #self.noise.sample()\n",
    "        return np.clip(action, -1, 1)\n",
    "\n",
    "    def reset(self):\n",
    "        self.noise.reset()\n",
    "    \n",
    "    def soft_update(self, local, target, tau):\n",
    "        for target_param, local_param in zip (target.parameters(), local.parameters()):\n",
    "            target_param.data.copy_(tau * local_param.data + (1.0 - tau) * target_param.data)\n",
    "\n",
    "\n",
    "class MultiAgent:\n",
    "\n",
    "    def __init__(self, state_size, action_size, random_seed) -> None:\n",
    "        self.action_size = action_size\n",
    "        self.noise_decay = 0.99\n",
    "        self.min_noise = 0.05\n",
    "\n",
    "        self.agent1 = Agent(state_size, action_size, random_seed, agent_id=0)\n",
    "        self.agent2 = Agent(state_size, action_size, random_seed, agent_id=1)\n",
    "\n",
    "    def act(self, state, add_noise=True):\n",
    "        \"\"\"\n",
    "        docstring\n",
    "        \"\"\"\n",
    "        state1 = np.reshape(state, (1, 48))\n",
    "        state2 = state1.copy()\n",
    "\n",
    "        action1 = self.agent1.act(state1, add_noise)\n",
    "        action2 = self.agent2.act(state2, add_noise)\n",
    "\n",
    "        actions = np.concatenate([action1, action2], axis=0).flatten()\n",
    "        assert len(actions.shape) == 1\n",
    "        return actions\n",
    "    \n",
    "    def step(self, state, action, reward, next_state, done, ep_i):\n",
    "        self.agent1.step(state, action, reward[0], next_state, done[0])\n",
    "        self.agent2.step(state, action, reward[1], next_state, done[1])\n",
    "\n",
    "    def reset(self):\n",
    "        self.agent1.reset()\n",
    "        self.agent2.reset()"
   ]
  },
  {
   "cell_type": "code",
   "execution_count": 12,
   "metadata": {},
   "outputs": [],
   "source": [
    "agent = MultiAgent(24, 2, 0)"
   ]
  },
  {
   "cell_type": "code",
   "execution_count": 13,
   "metadata": {},
   "outputs": [
    {
     "name": "stdout",
     "output_type": "stream",
     "text": [
      "Episode 100\tAverage Score: 0.00200000\n",
      "Episode 200\tAverage Score: 0.00000000\n",
      "Episode 300\tAverage Score: 0.00400000\n",
      "Episode 400\tAverage Score: 0.02100000\n",
      "Episode 500\tAverage Score: 0.01100000\n",
      "Episode 600\tAverage Score: 0.00100000\n",
      "Episode 700\tAverage Score: 0.00100000\n",
      "Episode 800\tAverage Score: 0.01200000\n",
      "Episode 900\tAverage Score: 0.03900000\n",
      "Episode 1000\tAverage Score: 0.07500000\n",
      "Episode 1100\tAverage Score: 0.05690000\n",
      "Episode 1200\tAverage Score: 0.08790000\n",
      "Episode 1300\tAverage Score: 0.12200000\n",
      "Episode 1400\tAverage Score: 0.11400000\n",
      "Episode 1500\tAverage Score: 0.14100000\n",
      "Episode 1600\tAverage Score: 0.17100000\n",
      "Episode 1700\tAverage Score: 0.17000000\n",
      "Episode 1800\tAverage Score: 0.16100000\n",
      "Episode 1900\tAverage Score: 0.17580000\n",
      "Episode 2000\tAverage Score: 0.24890000\n",
      "Episode 2100\tAverage Score: 0.25700000\n",
      "Episode 2200\tAverage Score: 0.06900000\n",
      "Episode 2300\tAverage Score: 0.11800000\n",
      "Episode 2400\tAverage Score: 0.25400000\n",
      "Episode 2500\tAverage Score: 0.22690000\n",
      "Episode 2600\tAverage Score: 0.22690000\n",
      "Episode 2700\tAverage Score: 0.22290000\n",
      "Episode 2800\tAverage Score: 0.29000000\n",
      "Episode 2900\tAverage Score: 0.32590000\n",
      "Episode 3000\tAverage Score: 0.29800000\n"
     ]
    }
   ],
   "source": [
    "def ddpg(n_episodes=1000, print_every=100, add_noise=True):\n",
    "    scores_deque = deque(maxlen=print_every)\n",
    "    scores = []\n",
    "    for i_episode in range(1, n_episodes+1):\n",
    "        env_info = env.reset(train_mode=True)[brain_name]\n",
    "        agent.reset()\n",
    "        state = env_info.vector_observations\n",
    "        state = np.reshape(state, (1, 48))\n",
    "\n",
    "        score = np.zeros(2)\n",
    "        while True:\n",
    "            action = agent.act(state, add_noise=add_noise)\n",
    "            env_info = env.step(action)[brain_name]\n",
    "            next_state = env_info.vector_observations\n",
    "            next_state = np.reshape(next_state, (1, 48))\n",
    "            reward = env_info.rewards\n",
    "            done = env_info.local_done\n",
    "\n",
    "            agent.step(state, action, reward, next_state, done, i_episode)\n",
    "            state = next_state\n",
    "            score += np.max(reward)\n",
    "            if np.any(done):\n",
    "                break\n",
    "        max_score = np.max(score)\n",
    "        scores_deque.append(max_score)\n",
    "        scores.append(max_score)\n",
    "        print('\\rEpisode {}\\tAverage Score: {:.8f}'.format(i_episode, np.mean(scores_deque)), end=\"\")\n",
    "        torch.save(agent.agent1.actor_local.state_dict(), 'checkpoint_actor1.pth')\n",
    "        torch.save(agent.agent2.actor_local.state_dict(), 'checkpoint_actor2.pth')\n",
    "        torch.save(agent.agent1.critic_local.state_dict(), 'checkpoint_critic1.pth')\n",
    "        torch.save(agent.agent2.critic_local.state_dict(), 'checkpoint_critic2.pth')\n",
    "        if i_episode % print_every == 0:\n",
    "            print('\\rEpisode {}\\tAverage Score: {:.8f}'.format(i_episode, np.mean(scores_deque)))\n",
    "        if np.mean(scores_deque) > 0.5: break\n",
    "            \n",
    "    return scores\n",
    "\n",
    "# scores = ddpg(n_episodes=1000)\n",
    "\n",
    "scores = ddpg(n_episodes=3000)"
   ]
  },
  {
   "cell_type": "code",
   "execution_count": 14,
   "metadata": {},
   "outputs": [
    {
     "data": {
      "image/png": "[encoded data removed]",
      "text/plain": [
       "<matplotlib.figure.Figure at 0x7f2e305235f8>"
      ]
     },
     "metadata": {
      "needs_background": "light"
     },
     "output_type": "display_data"
    }
   ],
   "source": [
    "import matplotlib.pyplot as plt\n",
    "%matplotlib inline\n",
    "\n",
    "fig = plt.figure()\n",
    "ax = fig.add_subplot(111)\n",
    "plt.plot(np.arange(len(scores)), scores)\n",
    "plt.ylabel('Score')\n",
    "plt.xlabel('Episode #')\n",
    "plt.show()"
   ]
  },
  {
   "cell_type": "code",
   "execution_count": 15,
   "metadata": {},
   "outputs": [
    {
     "name": "stdout",
     "output_type": "stream",
     "text": [
      "Episode 100\tAverage Score: 0.22200000\n",
      "Episode 200\tAverage Score: 0.38900001\n",
      "Episode 300\tAverage Score: 0.35090001\n",
      "Episode 324\tAverage Score: 0.50200001"
     ]
    }
   ],
   "source": [
    "def ddpg(n_episodes=1000, print_every=100, add_noise=True):\n",
    "    scores_deque = deque(maxlen=print_every)\n",
    "    scores = []\n",
    "    for i_episode in range(1, n_episodes+1):\n",
    "        env_info = env.reset(train_mode=True)[brain_name]\n",
    "        agent.reset()\n",
    "        state = env_info.vector_observations\n",
    "        state = np.reshape(state, (1, 48))\n",
    "\n",
    "        score = np.zeros(2)\n",
    "        while True:\n",
    "            action = agent.act(state, add_noise=add_noise)\n",
    "            env_info = env.step(action)[brain_name]\n",
    "            next_state = env_info.vector_observations\n",
    "            next_state = np.reshape(next_state, (1, 48))\n",
    "            reward = env_info.rewards\n",
    "            done = env_info.local_done\n",
    "\n",
    "            agent.step(state, action, reward, next_state, done, i_episode)\n",
    "            state = next_state\n",
    "            score += np.max(reward)\n",
    "            if np.any(done):\n",
    "                break\n",
    "        max_score = np.max(score)\n",
    "        scores_deque.append(max_score)\n",
    "        scores.append(max_score)\n",
    "        print('\\rEpisode {}\\tAverage Score: {:.8f}'.format(i_episode, np.mean(scores_deque)), end=\"\")\n",
    "        torch.save(agent.agent1.actor_local.state_dict(), 'checkpoint_actor1.pth')\n",
    "        torch.save(agent.agent2.actor_local.state_dict(), 'checkpoint_actor2.pth')\n",
    "        torch.save(agent.agent1.critic_local.state_dict(), 'checkpoint_critic1.pth')\n",
    "        torch.save(agent.agent2.critic_local.state_dict(), 'checkpoint_critic2.pth')\n",
    "        if i_episode % print_every == 0:\n",
    "            print('\\rEpisode {}\\tAverage Score: {:.8f}'.format(i_episode, np.mean(scores_deque)))\n",
    "        if np.mean(scores_deque) > 0.5: break\n",
    "            \n",
    "    return scores\n",
    "\n",
    "# scores = ddpg(n_episodes=1000)\n",
    "\n",
    "scores_ = ddpg(n_episodes=3000)"
   ]
  },
  {
   "cell_type": "code",
   "execution_count": 17,
   "metadata": {},
   "outputs": [
    {
     "data": {
      "image/png": "[encoded data removed]",
      "text/plain": [
       "<matplotlib.figure.Figure at 0x7f2e247d79b0>"
      ]
     },
     "metadata": {
      "needs_background": "light"
     },
     "output_type": "display_data"
    }
   ],
   "source": [
    "import matplotlib.pyplot as plt\n",
    "%matplotlib inline\n",
    "\n",
    "fig = plt.figure()\n",
    "ax = fig.add_subplot(111)\n",
    "plt.plot(np.arange(len(scores) + len(scores_)), scores + scores_)\n",
    "plt.ylabel('Score')\n",
    "plt.xlabel('Episode #')\n",
    "plt.show()"
   ]
  },
  {
   "cell_type": "code",
   "execution_count": null,
   "metadata": {},
   "outputs": [],
   "source": []
  }
 ],
 "metadata": {
  "kernelspec": {
   "display_name": "Python 3",
   "language": "python",
   "name": "python3"
  },
  "language_info": {
   "codemirror_mode": {
    "name": "ipython",
    "version": 3
   },
   "file_extension": ".py",
   "mimetype": "text/x-python",
   "name": "python",
   "nbconvert_exporter": "python",
   "pygments_lexer": "ipython3",
   "version": "3.6.3"
  }
 },
 "nbformat": 4,
 "nbformat_minor": 2
}
